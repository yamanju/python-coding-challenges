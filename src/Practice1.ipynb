{
 "cells": [
  {
   "attachments": {},
   "cell_type": "markdown",
   "metadata": {},
   "source": [
    "## EXCEPTION HANDLING\n",
    "# TRY EXCEPT\n",
    "# hata alsan da yine de sunu yap demek istedigimiz zaman kullanabiliriz.\n",
    "# yanlislikla yazdigim bir seyde mesela, hatayi ortadan kaldirmak ya da hataya ragmen kodu calistirmak icin kullanilir.\n",
    "# hata varsa except calisir. \n",
    "# except'e bir sey yazmazsam tum hatalari kontrol eder.\n",
    "## except ile ozel bir hata belirteceksek oncelikle onu belirtmemiz gerekir.\n",
    "# ama hata TypeError iken, except'e, TypeError yerine NameError yazarsam calismaz.\n",
    "# hatayi onlemek icin hatanin neler olabilecegini ongorerek girmem lazim kodu\n",
    "# except ile birden fazla olasi hata tanimlayabilirim (TypeError, ValueError, ZeroDivisionError)\n",
    "# boylelikle hatalari kisisellestirmis oluyorum.\n",
    "\n",
    "## try-except-else\n",
    "# try dogru ise else calisir.  yani tyr'i dene, olursa else'i calistir demek\n",
    "# yani except'lere yazdiginiz hatalar yoksa, else'i calistirir.\n",
    "\n",
    "## try-except-else-finally\n",
    "# python satir satir gider, hata aldigi yere kadar calisir. \n",
    "# hata aldigi yerde except'ler calisir.\n",
    "# finally ise her halukarda calisir sonunda.\n",
    "# artik finally dan sonra, except ve else yazamayiz. anlami yok.\n"
   ]
  },
  {
   "cell_type": "code",
   "execution_count": null,
   "metadata": {},
   "outputs": [],
   "source": [
    "#try:\n",
    "#hata verebilecegini bildigimiz kodlar\n",
    "#except:\n",
    "#hata durumunda yapilacak islem"
   ]
  },
  {
   "cell_type": "code",
   "execution_count": 13,
   "metadata": {},
   "outputs": [
    {
     "ename": "TypeError",
     "evalue": "can only concatenate str (not \"int\") to str",
     "output_type": "error",
     "traceback": [
      "\u001b[0;31m---------------------------------------------------------------------------\u001b[0m",
      "\u001b[0;31mTypeError\u001b[0m                                 Traceback (most recent call last)",
      "Cell \u001b[0;32mIn[13], line 1\u001b[0m\n\u001b[0;32m----> 1\u001b[0m \u001b[39m\"\u001b[39;49m\u001b[39m4\u001b[39;49m\u001b[39m\"\u001b[39;49m \u001b[39m+\u001b[39;49m \u001b[39m5\u001b[39;49m\n",
      "\u001b[0;31mTypeError\u001b[0m: can only concatenate str (not \"int\") to str"
     ]
    }
   ],
   "source": [
    "\"4\" + 5"
   ]
  },
  {
   "cell_type": "code",
   "execution_count": 2,
   "metadata": {},
   "outputs": [
    {
     "name": "stdout",
     "output_type": "stream",
     "text": [
      "Oops\n"
     ]
    }
   ],
   "source": [
    "try:\n",
    "    \"4\" + 5\n",
    "except:\n",
    "    print(\"Oops\")    "
   ]
  },
  {
   "cell_type": "code",
   "execution_count": 14,
   "metadata": {},
   "outputs": [
    {
     "ename": "TypeError",
     "evalue": "can only concatenate str (not \"int\") to str",
     "output_type": "error",
     "traceback": [
      "\u001b[0;31m---------------------------------------------------------------------------\u001b[0m",
      "\u001b[0;31mTypeError\u001b[0m                                 Traceback (most recent call last)",
      "Cell \u001b[0;32mIn[14], line 2\u001b[0m\n\u001b[1;32m      1\u001b[0m \u001b[39mtry\u001b[39;00m:\n\u001b[0;32m----> 2\u001b[0m     \u001b[39m\"\u001b[39;49m\u001b[39m4\u001b[39;49m\u001b[39m\"\u001b[39;49m \u001b[39m+\u001b[39;49m \u001b[39m5\u001b[39;49m\n\u001b[1;32m      3\u001b[0m \u001b[39mexcept\u001b[39;00m \u001b[39mZeroDivisionError\u001b[39;00m:\n\u001b[1;32m      4\u001b[0m     \u001b[39mprint\u001b[39m(\u001b[39m\"\u001b[39m\u001b[39mOops\u001b[39m\u001b[39m\"\u001b[39m) \n",
      "\u001b[0;31mTypeError\u001b[0m: can only concatenate str (not \"int\") to str"
     ]
    }
   ],
   "source": [
    "try:\n",
    "    \"4\" + 5\n",
    "except ZeroDivisionError:\n",
    "    print(\"Oops\") "
   ]
  },
  {
   "cell_type": "code",
   "execution_count": 15,
   "metadata": {},
   "outputs": [
    {
     "name": "stdout",
     "output_type": "stream",
     "text": [
      "Oops\n"
     ]
    }
   ],
   "source": [
    "try:\n",
    "    \"4\" + 5\n",
    "except TypeError:\n",
    "    print(\"Oops\") "
   ]
  },
  {
   "cell_type": "code",
   "execution_count": null,
   "metadata": {},
   "outputs": [],
   "source": [
    "try:\n",
    "    \"4\" + 5\n",
    "except (TypeError, ZeroDivisionError, ValueError):\n",
    "    print(\"Oops\") "
   ]
  },
  {
   "attachments": {},
   "cell_type": "markdown",
   "metadata": {},
   "source": [
    " ## except'e bir sey yazmazsam tum hatalari kontrol eder.\n",
    "#yazacaksam specific olarak hatayi/hatalari yazmam gerek"
   ]
  },
  {
   "cell_type": "code",
   "execution_count": 19,
   "metadata": {},
   "outputs": [
    {
     "ename": "ValueError",
     "evalue": "invalid literal for int() with base 10: 'sekiz'",
     "output_type": "error",
     "traceback": [
      "\u001b[0;31m---------------------------------------------------------------------------\u001b[0m",
      "\u001b[0;31mValueError\u001b[0m                                Traceback (most recent call last)",
      "Cell \u001b[0;32mIn[19], line 1\u001b[0m\n\u001b[0;32m----> 1\u001b[0m x\u001b[39m=\u001b[39m \u001b[39mint\u001b[39;49m(\u001b[39minput\u001b[39;49m(\u001b[39m\"\u001b[39;49m\u001b[39mBir sayi girin\u001b[39;49m\u001b[39m\"\u001b[39;49m))   \n\u001b[1;32m      2\u001b[0m y\u001b[39m=\u001b[39m \u001b[39mint\u001b[39m(\u001b[39minput\u001b[39m(\u001b[39m\"\u001b[39m\u001b[39mBir sayi girin\u001b[39m\u001b[39m\"\u001b[39m))\n\u001b[1;32m      4\u001b[0m \u001b[39mtry\u001b[39;00m:\n",
      "\u001b[0;31mValueError\u001b[0m: invalid literal for int() with base 10: 'sekiz'"
     ]
    }
   ],
   "source": [
    "x= int(input(\"Bir sayi girin\"))   \n",
    "y= int(input(\"Bir sayi girin\"))\n",
    "\n",
    "try:\n",
    "    print(x/y)\n",
    "except:\n",
    "    print(\"bu yaziyi goruyorsaniz girdiginiz sayilarda hata vardir\") "
   ]
  },
  {
   "cell_type": "code",
   "execution_count": 24,
   "metadata": {},
   "outputs": [
    {
     "name": "stdout",
     "output_type": "stream",
     "text": [
      "bu yaziyi goruyorsaniz girdiginiz sayilarda hata vardir\n"
     ]
    }
   ],
   "source": [
    "x= input(\"Bir sayi girin\")   \n",
    "y= input(\"Bir sayi girin\")\n",
    "\n",
    "try:\n",
    "    a=int(x)/int(y)\n",
    "    print(a)\n",
    "except ValueError:\n",
    "    print(\"bu yaziyi goruyorsaniz girdiginiz sayilarda hata vardir\") "
   ]
  },
  {
   "cell_type": "code",
   "execution_count": 23,
   "metadata": {},
   "outputs": [
    {
     "ename": "ValueError",
     "evalue": "invalid literal for int() with base 10: 'sekiz'",
     "output_type": "error",
     "traceback": [
      "\u001b[0;31m---------------------------------------------------------------------------\u001b[0m",
      "\u001b[0;31mValueError\u001b[0m                                Traceback (most recent call last)",
      "Cell \u001b[0;32mIn[23], line 1\u001b[0m\n\u001b[0;32m----> 1\u001b[0m x\u001b[39m=\u001b[39m \u001b[39mint\u001b[39;49m(\u001b[39minput\u001b[39;49m(\u001b[39m\"\u001b[39;49m\u001b[39mBir sayi girin\u001b[39;49m\u001b[39m\"\u001b[39;49m))    \n\u001b[1;32m      2\u001b[0m y\u001b[39m=\u001b[39m \u001b[39mint\u001b[39m(\u001b[39minput\u001b[39m(\u001b[39m\"\u001b[39m\u001b[39mBir sayi girin\u001b[39m\u001b[39m\"\u001b[39m))\n\u001b[1;32m      4\u001b[0m \u001b[39mtry\u001b[39;00m:\n",
      "\u001b[0;31mValueError\u001b[0m: invalid literal for int() with base 10: 'sekiz'"
     ]
    }
   ],
   "source": [
    "x= int(input(\"Bir sayi girin\"))    \n",
    "y= int(input(\"Bir sayi girin\"))\n",
    "\n",
    "try:\n",
    "    a=int(x)/int(y)\n",
    "    print(a)\n",
    "except ValueError:\n",
    "    print(\"bu yaziyi goruyorsaniz girdiginiz sayilarda hata vardir\") "
   ]
  },
  {
   "cell_type": "code",
   "execution_count": 25,
   "metadata": {},
   "outputs": [
    {
     "ename": "ZeroDivisionError",
     "evalue": "division by zero",
     "output_type": "error",
     "traceback": [
      "\u001b[0;31m---------------------------------------------------------------------------\u001b[0m",
      "\u001b[0;31mZeroDivisionError\u001b[0m                         Traceback (most recent call last)",
      "Cell \u001b[0;32mIn[25], line 5\u001b[0m\n\u001b[1;32m      2\u001b[0m y\u001b[39m=\u001b[39m \u001b[39mint\u001b[39m(\u001b[39minput\u001b[39m(\u001b[39m\"\u001b[39m\u001b[39mBir sayi girin\u001b[39m\u001b[39m\"\u001b[39m))\n\u001b[1;32m      4\u001b[0m \u001b[39mtry\u001b[39;00m:\n\u001b[0;32m----> 5\u001b[0m     \u001b[39mprint\u001b[39m(\u001b[39mint\u001b[39;49m(x)\u001b[39m/\u001b[39;49m\u001b[39mint\u001b[39;49m(y)) \n\u001b[1;32m      6\u001b[0m \u001b[39mexcept\u001b[39;00m \u001b[39mValueError\u001b[39;00m:\n\u001b[1;32m      7\u001b[0m     \u001b[39mprint\u001b[39m (\u001b[39m\"\u001b[39m\u001b[39molmadi\u001b[39m\u001b[39m\"\u001b[39m)\n",
      "\u001b[0;31mZeroDivisionError\u001b[0m: division by zero"
     ]
    }
   ],
   "source": [
    "x= (input(\"Bir sayi girin\")  #Bolene 0 dene\n",
    "y= input(\"Bir sayi girin\")\n",
    "\n",
    "try:\n",
    "    print(int(x)/int(y)) \n",
    "except ValueError:\n",
    "    print (\"olmadi\")"
   ]
  },
  {
   "cell_type": "code",
   "execution_count": 26,
   "metadata": {},
   "outputs": [
    {
     "name": "stdout",
     "output_type": "stream",
     "text": [
      "olmadi\n"
     ]
    }
   ],
   "source": [
    "x= int(input(\"Bir sayi girin\"))   #Bolene 0 dene\n",
    "y= int(input(\"Bir sayi girin\"))\n",
    "\n",
    "try:\n",
    "    print(int(x)/int(y)) \n",
    "except ZeroDivisionError:\n",
    "    print (\"olmadi\")"
   ]
  },
  {
   "cell_type": "code",
   "execution_count": null,
   "metadata": {},
   "outputs": [],
   "source": [
    "x= (input(\"Bir sayi girin\"))   # try dogru ise except'ler calismaz, else calisir.\n",
    "y= (input(\"Bir sayi girin\"))\n",
    "\n",
    "try:\n",
    "    a= int(x)/int(y)\n",
    "except ValueError:\n",
    "    print(\"bu yaziyi goruyorsaniz girdiginiz sayilarda hata vardir\")   \n",
    "except ZeroDivisionError:\n",
    "    print(\"bu yaziyi goruyorsaniz girdiginiz sayi 0'dir, bir sayi sifira bolunemez\") \n",
    "else :\n",
    "    print(a**2)  "
   ]
  },
  {
   "cell_type": "code",
   "execution_count": 29,
   "metadata": {},
   "outputs": [
    {
     "name": "stdout",
     "output_type": "stream",
     "text": [
      "256\n"
     ]
    }
   ],
   "source": [
    "x= (input(\"Bir sayi girin\"))   # try iki ayri blok seklinde yazilabilir\n",
    "y= (input(\"Bir sayi girin\"))\n",
    "\n",
    "try:\n",
    "    a= int(x)/int(y)\n",
    "except ValueError:\n",
    "    print(\"bu yaziyi goruyorsaniz girdiginiz sayilarda hata vardir\")  \n",
    "try:\n",
    "    a= int(x)*int(y) \n",
    "except ZeroDivisionError:\n",
    "    print(\"bu yaziyi goruyorsaniz girdiginiz sayi 0'dir, bir sayi sifira bolunemez\") \n",
    "\n",
    "else:\n",
    "    print(a**2)  "
   ]
  },
  {
   "cell_type": "code",
   "execution_count": null,
   "metadata": {},
   "outputs": [],
   "source": [
    "# iki sayinin carpimi kadar odul kazanacak kullanici diyelim. \n",
    "#sayilari dogru giremezse 100 brm odul kazansin"
   ]
  },
  {
   "cell_type": "code",
   "execution_count": 36,
   "metadata": {},
   "outputs": [
    {
     "name": "stdout",
     "output_type": "stream",
     "text": [
      "Odulunuz yalnizca 100 TL\n",
      "gule gule harcayin\n"
     ]
    }
   ],
   "source": [
    "x= (input(\"Bir sayi girin\"))   \n",
    "y= (input(\"Bir sayi girin\"))\n",
    "\n",
    "try:\n",
    "    odul= int(x)*int(y)\n",
    "except:\n",
    "    print(\"Odulunuz yalnizca 100 TL\")    \n",
    "\n",
    "else:\n",
    "    print(odul*2)  \n",
    "finally:\n",
    "    print(\"gule gule harcayin\")"
   ]
  },
  {
   "cell_type": "code",
   "execution_count": 57,
   "metadata": {},
   "outputs": [],
   "source": [
    "liste = [\"15\", \"aa15\", \"45\", \"asdeddcds48\", \"48\", 3, 3.5]  # soru:integerlari getirsin bize\n",
    "\n",
    "    \n"
   ]
  },
  {
   "cell_type": "code",
   "execution_count": 58,
   "metadata": {},
   "outputs": [
    {
     "name": "stdout",
     "output_type": "stream",
     "text": [
      "15\n",
      "aa15\n",
      "45\n",
      "asdeddcds48\n",
      "48\n"
     ]
    }
   ],
   "source": [
    "for i in liste :      \n",
    "\n",
    "\n",
    "    if isinstance(i, str):\n",
    "        print(i)\n",
    "    else :\n",
    "        continue  "
   ]
  },
  {
   "cell_type": "code",
   "execution_count": 59,
   "metadata": {},
   "outputs": [
    {
     "name": "stdout",
     "output_type": "stream",
     "text": [
      "15\n",
      "45\n",
      "48\n"
     ]
    },
    {
     "ename": "AttributeError",
     "evalue": "'int' object has no attribute 'isnumeric'",
     "output_type": "error",
     "traceback": [
      "\u001b[0;31m---------------------------------------------------------------------------\u001b[0m",
      "\u001b[0;31mAttributeError\u001b[0m                            Traceback (most recent call last)",
      "Cell \u001b[0;32mIn[59], line 4\u001b[0m\n\u001b[1;32m      1\u001b[0m \u001b[39mfor\u001b[39;00m i \u001b[39min\u001b[39;00m liste :       \u001b[39m#str icindeki rakamlari dondurdu.\u001b[39;00m\n\u001b[0;32m----> 4\u001b[0m     \u001b[39mif\u001b[39;00m i\u001b[39m.\u001b[39;49misnumeric():\n\u001b[1;32m      5\u001b[0m         \u001b[39mprint\u001b[39m(i)\n\u001b[1;32m      6\u001b[0m     \u001b[39melse\u001b[39;00m :\n",
      "\u001b[0;31mAttributeError\u001b[0m: 'int' object has no attribute 'isnumeric'"
     ]
    }
   ],
   "source": [
    "for i in liste :       #str icindeki rakamlari dondurdu.3'e geldiginde AttributeError verdi.\n",
    "\n",
    "\n",
    "    if i.isnumeric():\n",
    "        print(i)\n",
    "    else :\n",
    "        continue  "
   ]
  },
  {
   "cell_type": "code",
   "execution_count": 47,
   "metadata": {},
   "outputs": [
    {
     "ename": "SyntaxError",
     "evalue": "expected ':' (3128079327.py, line 5)",
     "output_type": "error",
     "traceback": [
      "\u001b[0;36m  Cell \u001b[0;32mIn[47], line 5\u001b[0;36m\u001b[0m\n\u001b[0;31m    if type(int(i))==int\u001b[0m\n\u001b[0m                        ^\u001b[0m\n\u001b[0;31mSyntaxError\u001b[0m\u001b[0;31m:\u001b[0m expected ':'\n"
     ]
    }
   ],
   "source": [
    "liste = [\"15\", \"aa15\", \"45\", \"asdeddcds48\", \"48\" ]\n",
    "\n",
    "for i in liste :      # if else ile yapmaya calistim, sadece 15'i yazdirdi sadece, \n",
    "                      #aa15 icin value error verdi.\n",
    "                      #aa15 int'e cevrilmeye uygun olmadigi icin error oluyor.\n",
    "\n",
    "\n",
    "    if type(int(i))==int :\n",
    "        print(i)\n",
    "    else :\n",
    "        continue  "
   ]
  },
  {
   "cell_type": "code",
   "execution_count": 44,
   "metadata": {},
   "outputs": [
    {
     "data": {
      "text/plain": [
       "True"
      ]
     },
     "execution_count": 44,
     "metadata": {},
     "output_type": "execute_result"
    }
   ],
   "source": [
    "isinstance(\"1\", str)  # isintance(x, type) bize type'inin dogru olup olmadigini True/False olarak dondurur"
   ]
  },
  {
   "cell_type": "code",
   "execution_count": 48,
   "metadata": {},
   "outputs": [
    {
     "data": {
      "text/plain": [
       "True"
      ]
     },
     "execution_count": 48,
     "metadata": {},
     "output_type": "execute_result"
    }
   ],
   "source": [
    "isinstance(1, int)"
   ]
  },
  {
   "cell_type": "code",
   "execution_count": 60,
   "metadata": {},
   "outputs": [
    {
     "data": {
      "text/plain": [
       "False"
      ]
     },
     "execution_count": 60,
     "metadata": {},
     "output_type": "execute_result"
    }
   ],
   "source": [
    "isinstance(3.5, int)"
   ]
  },
  {
   "cell_type": "code",
   "execution_count": 61,
   "metadata": {},
   "outputs": [
    {
     "data": {
      "text/plain": [
       "True"
      ]
     },
     "execution_count": 61,
     "metadata": {},
     "output_type": "execute_result"
    }
   ],
   "source": [
    "isinstance(3.5, float)"
   ]
  },
  {
   "cell_type": "code",
   "execution_count": 53,
   "metadata": {},
   "outputs": [
    {
     "data": {
      "text/plain": [
       "True"
      ]
     },
     "execution_count": 53,
     "metadata": {},
     "output_type": "execute_result"
    }
   ],
   "source": [
    "\"5\".isnumeric()  # bu str icindeki sayilari kontrol edebiliyor. T/F olarak donduruyor.\n"
   ]
  },
  {
   "cell_type": "code",
   "execution_count": 40,
   "metadata": {},
   "outputs": [
    {
     "name": "stdout",
     "output_type": "stream",
     "text": [
      "15\n",
      "45\n",
      "48\n"
     ]
    }
   ],
   "source": [
    "liste = [\"15\", \"aa15\", \"45\", \"asdeddcds48\", \"48\" ]  \n",
    "for i in liste :      \n",
    "\n",
    "    try:\n",
    "        type(int(i))==int\n",
    "        print(i)\n",
    "        \n",
    "    except :\n",
    "        continue  "
   ]
  },
  {
   "cell_type": "code",
   "execution_count": 62,
   "metadata": {},
   "outputs": [
    {
     "name": "stdout",
     "output_type": "stream",
     "text": [
      "Sayilari dogru girdiginizden emin olun\n",
      "Girilen iki sayinin bolumu: 0.0\n"
     ]
    }
   ],
   "source": [
    "while True:\n",
    "\n",
    "    x= (input(\"Bir sayi girin\"))   # While dongusuyle Kullanici dogru girene kadar sayi ister, sonra break\n",
    "    y= (input(\"Bir sayi girin\"))\n",
    "\n",
    "    try:\n",
    "        a= int(x)/int(y)\n",
    "        print(\"Girilen iki sayinin bolumu:\",a)\n",
    "        break\n",
    "\n",
    "    except (ValueError, ZeroDivisionError):\n",
    "        print(\"Sayilari dogru girdiginizden emin olun\")"
   ]
  },
  {
   "cell_type": "code",
   "execution_count": 65,
   "metadata": {},
   "outputs": [
    {
     "name": "stdout",
     "output_type": "stream",
     "text": [
      "bu yaziyi goruyorsaniz girdiginiz sayi 0'dir, bir sayi sifira bolunemez\n",
      "Beni kimse durduramaz\n"
     ]
    }
   ],
   "source": [
    "#FINALLY    #istersek iki try except de kullanabiliriz her hata icin\n",
    "\n",
    "x= (input(\"Bir sayi girin\"))   # try dogru ise except'ler calismaz, else calisir.\n",
    "y= (input(\"Bir sayi girin\"))\n",
    "\n",
    "try:\n",
    "    \n",
    "    a= int(x)/int(y)\n",
    "except ValueError:\n",
    "    print(\"bu yaziyi goruyorsaniz girdiginiz sayilarda hata vardir\")   \n",
    "except ZeroDivisionError:\n",
    "    print(\"bu yaziyi goruyorsaniz girdiginiz sayi 0'dir, bir sayi sifira bolunemez\") \n",
    "else :\n",
    "    print(a**2) \n",
    "finally:\n",
    "    print(\"Beni kimse durduramaz\")    "
   ]
  },
  {
   "cell_type": "code",
   "execution_count": 66,
   "metadata": {},
   "outputs": [
    {
     "name": "stdout",
     "output_type": "stream",
     "text": [
      "Lütfen 1 ile 6 arasında değer giriniz: \n",
      "lütfen sayı değeri giriniz.\n"
     ]
    },
    {
     "data": {
      "text/plain": [
       "'seçiminiz: 4'"
      ]
     },
     "execution_count": 66,
     "metadata": {},
     "output_type": "execute_result"
    }
   ],
   "source": [
    "def menuSecim():\n",
    "    while True:\n",
    "        try:\n",
    "            secim = int(input(\"1-Çalışan Ekle\\n2-Çalışan Çıkar\\n3-Verilecek Maaş Göster\\n4-Maaşları Ver\\n5-Masraf Gir\\n6-Gelir Gir\\n\\nSeçiminizi giriniz: \"))\n",
    "            if secim < 1 or secim > 6:\n",
    "                print((\"Lütfen 1 ile 6 arasında değer giriniz: \"))\n",
    "            else:\n",
    "                break\n",
    "        except ValueError:\n",
    "            print(\"lütfen sayı değeri giriniz.\")\n",
    "\n",
    "    return f\"seçiminiz: {secim}\"\n",
    "\n",
    "menuSecim()"
   ]
  }
 ],
 "metadata": {
  "kernelspec": {
   "display_name": "Python 3",
   "language": "python",
   "name": "python3"
  },
  "language_info": {
   "codemirror_mode": {
    "name": "ipython",
    "version": 3
   },
   "file_extension": ".py",
   "mimetype": "text/x-python",
   "name": "python",
   "nbconvert_exporter": "python",
   "pygments_lexer": "ipython3",
   "version": "3.11.1"
  },
  "orig_nbformat": 4,
  "vscode": {
   "interpreter": {
    "hash": "aee8b7b246df8f9039afb4144a1f6fd8d2ca17a180786b69acc140d282b71a49"
   }
  }
 },
 "nbformat": 4,
 "nbformat_minor": 2
}
