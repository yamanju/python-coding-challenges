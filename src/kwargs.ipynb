{
 "cells": [
  {
   "cell_type": "code",
   "execution_count": 1,
   "metadata": {},
   "outputs": [
    {
     "name": "stdout",
     "output_type": "stream",
     "text": [
      "username: gurdalyaman\n",
      "\n",
      "\n",
      "username: gurdalyaman\n",
      "email: info@gurdalyaman.com\n",
      "\n",
      "\n",
      "username: gurdalyaman\n",
      "email: info@gurdalyaman.com\n",
      "country: Türkiye\n",
      "\n",
      "\n",
      "10\n",
      "20\n",
      "30\n",
      "(40, 50, 60)\n",
      "{'key1': 'value 1', 'key2': 'value 2'}\n"
     ]
    }
   ],
   "source": [
    "# def displayUser(*args):\n",
    "#     print(type(args))\n",
    "#     print(args)\n",
    "\n",
    "# displayUser()\n",
    "\n",
    "def displayUser(**kwargs):\n",
    "    for key, value in kwargs.items():\n",
    "        print(f\"{key}: {value}\")\n",
    "    print(\"\\n\")\n",
    "\n",
    "displayUser(username= \"gurdalyaman\")\n",
    "displayUser(username= \"gurdalyaman\", email=\"info@gurdalyaman.com\")\n",
    "displayUser(username= \"gurdalyaman\", email=\"info@gurdalyaman.com\", country=\"Türkiye\")\n",
    "\n",
    "def myFunc(a,b,c,*args,**kwargs):\n",
    "    print(a)\n",
    "    print(b)\n",
    "    print(c)\n",
    "    print(args)\n",
    "    print(kwargs)\n",
    "\n",
    "myFunc(10,20,30,40,50,60,key1=\"value 1\", key2 = \"value 2\")"
   ]
  }
 ],
 "metadata": {
  "kernelspec": {
   "display_name": "Python 3",
   "language": "python",
   "name": "python3"
  },
  "language_info": {
   "codemirror_mode": {
    "name": "ipython",
    "version": 3
   },
   "file_extension": ".py",
   "mimetype": "text/x-python",
   "name": "python",
   "nbconvert_exporter": "python",
   "pygments_lexer": "ipython3",
   "version": "3.9.6"
  },
  "orig_nbformat": 4
 },
 "nbformat": 4,
 "nbformat_minor": 2
}
