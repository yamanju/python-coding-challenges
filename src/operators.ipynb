{
  "nbformat": 4,
  "nbformat_minor": 0,
  "metadata": {
    "colab": {
      "name": "Operators.ipynb",
      "provenance": [],
      "collapsed_sections": []
    },
    "kernelspec": {
      "name": "python3",
      "display_name": "Python 3"
    },
    "language_info": {
      "name": "python"
    }
  },
  "cells": [
    {
      "cell_type": "code",
      "execution_count": 1,
      "metadata": {
        "colab": {
          "base_uri": "https://localhost:8080/"
        },
        "id": "9wWTksnnycoO",
        "outputId": "fe1d50bb-5560-4256-cd95-3a9e6e076dae"
      },
      "outputs": [
        {
          "output_type": "stream",
          "name": "stdout",
          "text": [
            "7\n"
          ]
        }
      ],
      "source": [
        "print(2 + 5)"
      ]
    },
    {
      "cell_type": "code",
      "source": [
        "print(\"5 + 2 =\", 5+2)\n",
        "print(\"5 - 2 =\", 5-2)\n",
        "print(\"5 * 2 =\", 5*2)\n",
        "print(\"5 / 2 =\", 5/2)\n",
        "print(\"5 // 2 =\", 5//2)\n",
        "print(\"5 ** 2 =\", 5**2)\n",
        "print(\"5 % 2 =\", 5%2)"
      ],
      "metadata": {
        "colab": {
          "base_uri": "https://localhost:8080/"
        },
        "id": "qIJyM19KyjTk",
        "outputId": "c798c546-b9d6-4a15-e0f1-2cc1dee05bdf"
      },
      "execution_count": 4,
      "outputs": [
        {
          "output_type": "stream",
          "name": "stdout",
          "text": [
            "5 + 2 = 7\n",
            "5 - 2 = 3\n",
            "5 * 2 = 10\n",
            "5 / 2 = 2.5\n",
            "5 // 2 = 2\n",
            "5 ** 2 = 25\n",
            "5 % 2 = 1\n"
          ]
        }
      ]
    },
    {
      "cell_type": "code",
      "source": [
        "x = 5 # equivalent to x = 5\n",
        "x += 5 # equivalent to x = x + 5\n",
        "x -= 5 # equivalent to x = x - 5\n",
        "x *= 5 # equivalent to x = x * 5\n",
        "x /= 5 # equivalent to x = x / 5\n",
        "x %= 5 # equivalent to x = x % 5\n",
        "x //= 5 # equivalent to x = x // 5\n",
        "x **= 5 # equivalent to x = x ** 5"
      ],
      "metadata": {
        "id": "EUQkOAaBzPwU"
      },
      "execution_count": 5,
      "outputs": []
    },
    {
      "cell_type": "code",
      "source": [
        "num1 = 10\n",
        "num2 = 5\n",
        "\n",
        "print(num1, \">\", num2, \"=\", num1 > num2)\n",
        "print(num1, \">=\", num2, \"=\", num1 >= num2)\n",
        "print(num1, \"<\", num2, \"=\", num1 < num2)\n",
        "print(num1, \"<=\", num2, \"=\", num1 <= num2)\n",
        "print(num1, \"==\", num2, \"=\", num1 == num2)\n",
        "print(num1, \"!=\", num2, \"=\", num1 != num2)"
      ],
      "metadata": {
        "colab": {
          "base_uri": "https://localhost:8080/"
        },
        "id": "Ei5wl-s2z4R4",
        "outputId": "328d2f5a-e755-4ef2-e22d-5ca44116f691"
      },
      "execution_count": 6,
      "outputs": [
        {
          "output_type": "stream",
          "name": "stdout",
          "text": [
            "10 > 5 = True\n",
            "10 >= 5 = True\n",
            "10 < 5 = False\n",
            "10 <= 5 = False\n",
            "10 == 5 = False\n",
            "10 != 5 = True\n"
          ]
        }
      ]
    },
    {
      "cell_type": "code",
      "source": [
        "print(\"True and True =\", True and True)\n",
        "print(\"True and False =\", True and False)\n",
        "print(\"False and True =\", False and True)\n",
        "print(\"False and False =\", False and False)"
      ],
      "metadata": {
        "colab": {
          "base_uri": "https://localhost:8080/"
        },
        "id": "I8VvBoe50Wul",
        "outputId": "5055258c-d2d2-47d4-ad01-0f79e9ce638c"
      },
      "execution_count": 7,
      "outputs": [
        {
          "output_type": "stream",
          "name": "stdout",
          "text": [
            "True and True = True\n",
            "True and False = False\n",
            "False and True = False\n",
            "False and False = False\n"
          ]
        }
      ]
    },
    {
      "cell_type": "code",
      "source": [
        "print(True and False and False)"
      ],
      "metadata": {
        "colab": {
          "base_uri": "https://localhost:8080/"
        },
        "id": "cKgqL8gG0h-2",
        "outputId": "f8e83676-9b9f-41e4-94e5-9a8d340861b3"
      },
      "execution_count": 8,
      "outputs": [
        {
          "output_type": "stream",
          "name": "stdout",
          "text": [
            "False\n"
          ]
        }
      ]
    },
    {
      "cell_type": "code",
      "source": [
        "print(\"True or True =\", True or True)\n",
        "print(\"True or False =\", True or False)\n",
        "print(\"False or True =\", False or True)\n",
        "print(\"False or False =\", False or False)"
      ],
      "metadata": {
        "colab": {
          "base_uri": "https://localhost:8080/"
        },
        "id": "XURxbBFS0qQj",
        "outputId": "b6273f64-0bf9-49d6-e798-5f1ce99f7131"
      },
      "execution_count": 9,
      "outputs": [
        {
          "output_type": "stream",
          "name": "stdout",
          "text": [
            "True or True = True\n",
            "True or False = True\n",
            "False or True = True\n",
            "False or False = False\n"
          ]
        }
      ]
    },
    {
      "cell_type": "code",
      "source": [
        "print(\"not True =\", not True)\n",
        "print(\"not False =\", not False)"
      ],
      "metadata": {
        "colab": {
          "base_uri": "https://localhost:8080/"
        },
        "id": "ns55hdqK01hS",
        "outputId": "60217ba2-e8fe-41a5-9289-ee09daec67a7"
      },
      "execution_count": 10,
      "outputs": [
        {
          "output_type": "stream",
          "name": "stdout",
          "text": [
            "not True = False\n",
            "not False = True\n"
          ]
        }
      ]
    }
  ]
}