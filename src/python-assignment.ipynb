{
 "cells": [
  {
   "cell_type": "markdown",
   "id": "aa93b12c",
   "metadata": {},
   "source": [
    "# Python Functions Assignment"
   ]
  },
  {
   "cell_type": "markdown",
   "id": "57c9c596",
   "metadata": {},
   "source": [
    "## 1. Write a Python function to find the maximum of three numbers."
   ]
  },
  {
   "cell_type": "code",
   "execution_count": 60,
   "id": "9655e704",
   "metadata": {},
   "outputs": [
    {
     "name": "stdout",
     "output_type": "stream",
     "text": [
      "2'ye bölünürken kalan sayılar (küçükten büyüğe doğru): [12, 18, 34, 42, 76, 84, 92]\n",
      "Sondan 3 sayı (büyükten küçüğe doğru): [92, 84, 76]\n"
     ]
    }
   ],
   "source": [
    "bolunen = []\n",
    "for sayi in liste:\n",
    "    if sayi % 2 == 0:\n",
    "        bolunen.append(sayi)\n",
    "\n",
    "bolunen.sort()\n",
    "\n",
    "print(\"2'ye bölünürken kalan sayılar (küçükten büyüğe doğru):\", bolunebilirler)\n",
    "print(\"Sondan 3 sayı (büyükten küçüğe doğru):\", son_3[::-1])\n"
   ]
  },
  {
   "cell_type": "markdown",
   "id": "d6d0667d",
   "metadata": {},
   "source": [
    "## 2. Write a Python function to sum all the numbers in a list.\n",
    "\n",
    "## Sample List : (8, 2, 3, 0, 7)\n",
    "\n",
    "## Expected Output : 20"
   ]
  },
  {
   "cell_type": "code",
   "execution_count": 1,
   "id": "28fb6939",
   "metadata": {},
   "outputs": [
    {
     "name": "stdout",
     "output_type": "stream",
     "text": [
      "Listedeki sayıların toplamı:  20\n"
     ]
    }
   ],
   "source": [
    "list = [8,2,3,0,7]\n",
    "toplam = sum(list)\n",
    "\n",
    "print(\"Listedeki sayıların toplamı: \", toplam)\n"
   ]
  },
  {
   "cell_type": "markdown",
   "id": "8991e3fe",
   "metadata": {},
   "source": [
    "## 3. Write a Python function to multiply all the numbers in a list.\n",
    "## Sample List : (8, 2, 3, -1, 7)\n",
    "## Expected Output : -336\n"
   ]
  },
  {
   "cell_type": "code",
   "execution_count": 17,
   "id": "325e7de4",
   "metadata": {},
   "outputs": [
    {
     "name": "stdout",
     "output_type": "stream",
     "text": [
      "-336\n"
     ]
    }
   ],
   "source": [
    "multiply_list = [8, 2, 3, -1, 7]\n",
    "\n",
    "result = 1\n",
    "\n",
    "for i in numbers:\n",
    "    result *= i\n",
    "print(result) "
   ]
  },
  {
   "cell_type": "markdown",
   "id": "d0397d6a",
   "metadata": {},
   "source": [
    "## 4. Write a Python program to reverse a string.\n",
    "## Sample String : \"1234abcd\"\n",
    "## Expected Output : \"dcba4321\""
   ]
  },
  {
   "cell_type": "code",
   "execution_count": 41,
   "id": "e6a79379",
   "metadata": {},
   "outputs": [
    {
     "name": "stdout",
     "output_type": "stream",
     "text": [
      "Reversed string: dcba4321\n"
     ]
    }
   ],
   "source": [
    "my_str = \"1234abcd\"\n",
    "reverse_str = my_str[::-1]\n",
    "print(\"Reversed string:\", reverse_str)\n"
   ]
  },
  {
   "cell_type": "markdown",
   "id": "c7a633ba",
   "metadata": {},
   "source": [
    "## 5. Write a Python function to calculate the factorial of a number (a non-negative integer). The function accepts the number as an argument."
   ]
  },
  {
   "cell_type": "code",
   "execution_count": null,
   "id": "29d849d6",
   "metadata": {},
   "outputs": [],
   "source": [
    "x = input(\"Lutfen bir 5 basamakli bir sayi giriniz\")\n",
    "while True :\n",
    "        if x.isnumeric() and len(x) == 5 :\n",
    "            x = int(x)\n",
    "            basamak_toplam = 0\n",
    "            temp = x\n",
    "            while x > 0 :\n",
    "                basamak_toplam += x%10\n",
    "                x //= 10\n",
    "            print(f\"{temp} sayisinin basamaklarinin toplami : {basamak_toplam}\")\n",
    "            print(temp, \"sayisinin basamaklarinin toplami :\", basamak_toplam)\n",
    "        else :\n",
    "                print(\"Lutfen 5 basamakli bir sayi giriniz\")\n",
    "                \n",
    "    break"
   ]
  },
  {
   "cell_type": "markdown",
   "id": "81f0c3d5",
   "metadata": {},
   "source": [
    "## 6. Write a Python function to check whether a number falls within a given range."
   ]
  },
  {
   "cell_type": "code",
   "execution_count": 9,
   "id": "bf393352",
   "metadata": {},
   "outputs": [],
   "source": [
    "def sayi_VarMi2(sayi,baslangic, bitis) :\n",
    "    sayi_araligi=list(range(baslangic,bitis))\n",
    "    [print(f\"Aradiginiz {sayi} sayisi verdiğiniz {baslangic} ve {bitis} sayilari arasindadir\")\n",
    "      if sayi in sayi_araligi \n",
    "      else print(f\"Aradiginiz {sayi} sayisi verdiğiniz {baslangic} ve {bitis} sayilari arasinda değildir  \") ] #list comp"
   ]
  },
  {
   "cell_type": "code",
   "execution_count": 12,
   "id": "fdfce1e0",
   "metadata": {},
   "outputs": [
    {
     "name": "stdout",
     "output_type": "stream",
     "text": [
      "Aradiginiz 1 sayisi verdiğiniz 0 ve 10 sayilari arasindadir\n"
     ]
    }
   ],
   "source": [
    "sayi_VarMi2(1,0,10)"
   ]
  },
  {
   "cell_type": "markdown",
   "id": "46d9792b",
   "metadata": {},
   "source": [
    "## 7. Write a Python function that accepts a string and counts the number of upper and lower case letters.\n",
    "## Sample String : 'The quick Brow Fox'\n",
    "## Expected Output :\n",
    "### No. of Upper case characters : 3\n",
    "### No. of Lower case Characters : 12"
   ]
  },
  {
   "cell_type": "code",
   "execution_count": 10,
   "id": "195a965b",
   "metadata": {},
   "outputs": [
    {
     "name": "stdout",
     "output_type": "stream",
     "text": [
      "String: The quick Brow Fox\n",
      "No. of Upper case characters: 3\n",
      "No. of Lower case Characters: 12\n"
     ]
    }
   ],
   "source": [
    "def count_upper_lower(s):\n",
    "\n",
    "    return sum(1 for char in s if char.isupper()), sum(1 for char in s if char.islower())\n",
    "\n",
    "s = 'The quick Brow Fox'\n",
    "print(\"String:\", s)\n",
    "\n",
    "upper_count, lower_count = count_upper_lower(s)\n",
    "print(\"No. of Upper case characters:\", upper_count)\n",
    "print(\"No. of Lower case Characters:\", lower_count)"
   ]
  },
  {
   "cell_type": "markdown",
   "id": "be714b42",
   "metadata": {},
   "source": [
    "## 8. Write a Python function that takes a list and returns a new list with distinct elements from the first list.\n",
    "### Sample List : [1,2,3,3,3,3,4,5]\n",
    "### Unique List : [1, 2, 3, 4, 5]"
   ]
  },
  {
   "cell_type": "code",
   "execution_count": 9,
   "id": "4f2a7f66",
   "metadata": {},
   "outputs": [
    {
     "name": "stdout",
     "output_type": "stream",
     "text": [
      "Orjinal Liste: [1, 2, 3, 3, 3, 3, 4, 5]\n",
      "Benzersiz Liste: [1, 2, 3, 4, 5]\n"
     ]
    }
   ],
   "source": [
    "def unique_list(lst):\n",
    "    \n",
    "    return list(set(lst))\n",
    "\n",
    "# Test the function\n",
    "lst = [1, 2, 3, 3, 3, 3, 4, 5]\n",
    "print(\"Orjinal Liste:\", lst)\n",
    "\n",
    "unique_lst = unique_list(lst)\n",
    "print(\"Benzersiz Liste:\", unique_lst)\n"
   ]
  },
  {
   "cell_type": "markdown",
   "id": "b3400547",
   "metadata": {},
   "source": [
    "## 9. Write a Python function that takes a number as a parameter and checks whether the number is prime or not.\n",
    "### Note : A prime number (or a prime) is a natural number greater than 1 and that has no positive divisors other than 1 and itself."
   ]
  },
  {
   "cell_type": "code",
   "execution_count": 10,
   "id": "9179b32b",
   "metadata": {},
   "outputs": [],
   "source": [
    "def is_prime(sayi):\n",
    "    if sayi < 2:\n",
    "        return False\n",
    "    \n",
    "    for i in range(2, int(sayi**0.5) + 1):\n",
    "        if sayi % i == 0:\n",
    "            return False\n",
    "    \n",
    "    return True"
   ]
  },
  {
   "cell_type": "code",
   "execution_count": 12,
   "metadata": {},
   "outputs": [
    {
     "name": "stdout",
     "output_type": "stream",
     "text": [
      "True\n"
     ]
    }
   ],
   "source": [
    "print (is_prime(7))"
   ]
  },
  {
   "cell_type": "markdown",
   "id": "9743a8c3",
   "metadata": {},
   "source": [
    "## 10. Write a Python program to print the even numbers from a given list.\n",
    "### Sample List : [1, 2, 3, 4, 5, 6, 7, 8, 9]\n",
    "### Expected Result : [2, 4, 6, 8]"
   ]
  },
  {
   "cell_type": "code",
   "execution_count": 17,
   "id": "039185d2",
   "metadata": {},
   "outputs": [
    {
     "name": "stdout",
     "output_type": "stream",
     "text": [
      "Verilen listedeki çift sayılar: [2, 4, 6, 8]\n"
     ]
    }
   ],
   "source": [
    "liste = [1,2,3,4,5,6,7,8,9]\n",
    "\n",
    "cift_sayilar = []\n",
    "for sayi in liste:\n",
    "    if sayi % 2 == 0:\n",
    "        cift_sayilar.append(sayi)\n",
    "\n",
    "print(\"Verilen listedeki çift sayılar:\", cift_sayilar)"
   ]
  },
  {
   "cell_type": "markdown",
   "id": "6c80fb99",
   "metadata": {},
   "source": [
    "## 11. Write a Python function to check whether a number is \"Perfect\" or not.\n",
    "### According to Wikipedia : In number theory, a perfect number is a positive integer that is equal to the sum of its proper positive divisors, that is, the sum of its positive divisors excluding the number itself (also known as its aliquot sum). Equivalently, a perfect number is a number that is half the sum of all of its positive divisors (including itself).\n",
    "### Example : The first perfect number is 6, because 1, 2, and 3 are its proper positive divisors, and 1 + 2 + 3 = 6. Equivalently, the number 6 is equal to half the sum of all its positive divisors: ( 1 + 2 + 3 + 6 ) / 2 = 6. The next perfect number is 28 = 1 + 2 + 4 + 7 + 14. This is followed by the perfect numbers 496 and 8128."
   ]
  },
  {
   "cell_type": "code",
   "execution_count": 4,
   "id": "39ffa501",
   "metadata": {},
   "outputs": [],
   "source": [
    "def is_perfect_number(num):\n",
    "    bölenler = []\n",
    "    for i in range(1, num):\n",
    "        if num % i == 0:\n",
    "            bölenler.append(i)\n",
    "    return sum(bölenler) == num\n"
   ]
  },
  {
   "cell_type": "code",
   "execution_count": 5,
   "id": "54295bcc",
   "metadata": {},
   "outputs": [
    {
     "name": "stdout",
     "output_type": "stream",
     "text": [
      "True\n"
     ]
    }
   ],
   "source": [
    "print(is_perfect_number(6)) "
   ]
  },
  {
   "cell_type": "markdown",
   "id": "795dc6b0",
   "metadata": {},
   "source": [
    "## 12. Write a Python function that checks whether a passed string is a palindrome or not.\n",
    "### Note: A palindrome is a word, phrase, or sequence that reads the same backward as forward, e.g., madam or nurses run."
   ]
  },
  {
   "cell_type": "code",
   "execution_count": 4,
   "id": "dd3ceb6f",
   "metadata": {},
   "outputs": [],
   "source": [
    "def is_palindrome(s):\n",
    "    s = s.lower() \n",
    "    s = ''.join(c for c in s if c.isalnum()) \n",
    "    return s == s[::-1]\n"
   ]
  },
  {
   "cell_type": "code",
   "execution_count": 6,
   "id": "3e2ad0d8",
   "metadata": {},
   "outputs": [
    {
     "name": "stdout",
     "output_type": "stream",
     "text": [
      "True\n"
     ]
    }
   ],
   "source": [
    "print(is_palindrome(\"kayak\")) "
   ]
  },
  {
   "cell_type": "markdown",
   "id": "1e155158",
   "metadata": {},
   "source": [
    "## 13. Write a Python function that prints out the first n rows of Pascal's triangle.\n",
    "### Note : Pascal's triangle is an arithmetic and geometric figure first imagined by Blaise Pascal.\n",
    "### Sample Pascal's triangle :\n",
    "### Each number is the two numbers above it added together"
   ]
  },
  {
   "cell_type": "code",
   "execution_count": 15,
   "id": "353ffc64",
   "metadata": {},
   "outputs": [],
   "source": [
    "def print_pascals_triangle(n):\n",
    "    triangle = [[1]]\n",
    "    for i in range(1, n):\n",
    "        row = [1]\n",
    "        for j in range(1, i):\n",
    "            row.append(triangle[i-1][j-1] + triangle[i-1][j])\n",
    "        row.append(1)\n",
    "        triangle.append(row)\n",
    "    for row in triangle:\n",
    "        print(\" \".join(str(num) for num in row).center(n*3))\n",
    "        \n",
    "#Bu konuyu bilmiyorum, çözümü internetten aldım.\n"
   ]
  },
  {
   "cell_type": "code",
   "execution_count": 16,
   "id": "faf7fa43",
   "metadata": {},
   "outputs": [
    {
     "name": "stdout",
     "output_type": "stream",
     "text": [
      "       1       \n",
      "      1 1      \n",
      "     1 2 1     \n",
      "    1 3 3 1    \n",
      "   1 4 6 4 1   \n"
     ]
    }
   ],
   "source": [
    "print_pascals_triangle(5)"
   ]
  },
  {
   "cell_type": "markdown",
   "id": "b89febf6",
   "metadata": {},
   "source": [
    "## 14. Write a Python function to check whether a string is a pangram or not.\n",
    "### Note : Pangrams are words or sentences containing every letter of the alphabet at least once.\n",
    "### For example : \"The quick brown fox jumps over the lazy dog\""
   ]
  },
  {
   "cell_type": "code",
   "execution_count": 6,
   "id": "8d0e796a",
   "metadata": {},
   "outputs": [],
   "source": [
    "import string\n",
    "\n",
    "def is_pangram(sentence):\n",
    "    alphabet = set(string.ascii_lowercase)\n",
    "    return set(sentence.lower()) >= alphabet\n",
    "\n",
    "#Bu soruyu çözemedim. Çözümü internetten aldım."
   ]
  },
  {
   "cell_type": "markdown",
   "id": "d45e3b07",
   "metadata": {},
   "source": [
    "## 15. Write a Python program that accepts a hyphen-separated sequence of words as input and prints the words in a hyphen-separated sequence after sorting them alphabetically.\n",
    "### Sample Items : green-red-yellow-black-white\n",
    "### Expected Result : black-green-red-white-yellow"
   ]
  },
  {
   "cell_type": "code",
   "execution_count": 2,
   "id": "131ce2fd",
   "metadata": {},
   "outputs": [
    {
     "name": "stdout",
     "output_type": "stream",
     "text": [
      "Sıralanmış kelime dizisi: black-green-red-white-yellow\n"
     ]
    }
   ],
   "source": [
    "kelime_dizisi = input(\"Tire ile ayrılmış bir kelime dizisi girin: \")\n",
    "\n",
    "kelimeler = kelime_dizisi.split('-')  # tire ile ayrılmış kelimeleri ayrıştır\n",
    "\n",
    "kelimeler.sort()  # burada .sort fonksiyonu sıralama yapar.\n",
    "\n",
    "sonuc = '-'.join(kelimeler)  # kelimeleri tekrar tire ile birleştir\n",
    "\n",
    "print(\"Sıralanmış kelime dizisi:\", sonuc)\n"
   ]
  },
  {
   "cell_type": "markdown",
   "id": "12d7472a",
   "metadata": {},
   "source": [
    "## 16. Write a Python function to create and print a list where the values are the squares of numbers between 1 and 30 (both included)."
   ]
  },
  {
   "cell_type": "code",
   "execution_count": 14,
   "id": "76dfd6cd",
   "metadata": {},
   "outputs": [],
   "source": [
    "def squares_list():\n",
    "    squares = [i**2 for i in range(1, 31)]\n",
    "    print(squares)"
   ]
  },
  {
   "cell_type": "code",
   "execution_count": 17,
   "id": "8ef06216",
   "metadata": {},
   "outputs": [
    {
     "name": "stdout",
     "output_type": "stream",
     "text": [
      "[1, 4, 9, 16, 25, 36, 49, 64, 81, 100, 121, 144, 169, 196, 225, 256, 289, 324, 361, 400, 441, 484, 529, 576, 625, 676, 729, 784, 841, 900]\n"
     ]
    }
   ],
   "source": [
    "squares_list()"
   ]
  },
  {
   "cell_type": "markdown",
   "id": "5f116f5d",
   "metadata": {},
   "source": [
    "## 17. Write a Python program to create a chain of function decorators (bold, italic, underline etc.).\n"
   ]
  },
  {
   "cell_type": "code",
   "execution_count": 4,
   "id": "17ad2f2a",
   "metadata": {},
   "outputs": [
    {
     "name": "stdout",
     "output_type": "stream",
     "text": [
      "<b><i><u>Hello, World!</u></i></b>\n"
     ]
    }
   ],
   "source": [
    "def bold(func):\n",
    "    def wrapper(*args, **kwargs):\n",
    "        return f\"<b>{func(*args, **kwargs)}</b>\"\n",
    "    return wrapper\n",
    "\n",
    "def italic(func):\n",
    "    def wrapper(*args, **kwargs):\n",
    "        return f\"<i>{func(*args, **kwargs)}</i>\"\n",
    "    return wrapper\n",
    "\n",
    "def underline(func):\n",
    "    def wrapper(*args, **kwargs):\n",
    "        return f\"<u>{func(*args, **kwargs)}</u>\"\n",
    "    return wrapper\n",
    "\n",
    "@bold\n",
    "@italic\n",
    "@underline\n",
    "def hello_world():\n",
    "    return \"Hello, World!\"\n",
    "\n",
    "print(hello_world())\n"
   ]
  },
  {
   "cell_type": "markdown",
   "id": "e44f734a",
   "metadata": {},
   "source": [
    "## 18. Write a Python program to execute a string containing Python code."
   ]
  },
  {
   "cell_type": "code",
   "execution_count": 5,
   "id": "a635119a",
   "metadata": {},
   "outputs": [
    {
     "name": "stdout",
     "output_type": "stream",
     "text": [
      "10\n"
     ]
    }
   ],
   "source": [
    "code = \"\"\"\n",
    "a = 3\n",
    "b = 7\n",
    "print(a + b)\n",
    "\"\"\"\n",
    "\n",
    "exec(code)"
   ]
  },
  {
   "cell_type": "markdown",
   "id": "323501dc",
   "metadata": {},
   "source": [
    "## 19. Write a Python program to access a function inside a function."
   ]
  },
  {
   "cell_type": "code",
   "execution_count": 16,
   "id": "9272d6d6",
   "metadata": {},
   "outputs": [
    {
     "name": "stdout",
     "output_type": "stream",
     "text": [
      "Bu bir iç fonksiyondur.\n"
     ]
    }
   ],
   "source": [
    "def outer_function():\n",
    "    def inner_function():\n",
    "        print(\"Bu bir iç fonksiyondur.\")\n",
    "    return inner_function\n",
    "\n",
    "inner_func = outer_function()\n",
    "\n",
    "inner_func()"
   ]
  },
  {
   "cell_type": "markdown",
   "id": "ad42d26f",
   "metadata": {},
   "source": [
    "## 20. Write a Python program to detect the number of local variables declared in a function.\n",
    "### Sample Output:\n",
    "### 3"
   ]
  },
  {
   "cell_type": "code",
   "execution_count": 19,
   "id": "d7fff293",
   "metadata": {},
   "outputs": [
    {
     "name": "stdout",
     "output_type": "stream",
     "text": [
      "3\n"
     ]
    }
   ],
   "source": [
    "def count_local_variables(func):\n",
    "    bytecode = func.__code__\n",
    "    return bytecode.co_nlocals\n",
    "\n",
    "def my_function():\n",
    "    a = 1\n",
    "    b = 2\n",
    "    c = 3\n",
    "    print(count_local_variables(my_function))\n",
    "\n",
    "my_function()"
   ]
  },
  {
   "cell_type": "markdown",
   "id": "d9df7ef3",
   "metadata": {},
   "source": [
    "## 21. Write a Python program that invokes a function after a specified period of time.\n",
    "### Sample Output:\n",
    "### Square root after specific miliseconds:\n",
    "### 4.0\n",
    "### 10.0\n",
    "### 158.42979517754858 (edited) "
   ]
  },
  {
   "cell_type": "code",
   "execution_count": 12,
   "id": "34f77a91",
   "metadata": {},
   "outputs": [
    {
     "name": "stdout",
     "output_type": "stream",
     "text": [
      "Calculating square root of 16\n",
      "Square root of 16 is 4.0\n",
      "Calculating square root of 100\n",
      "Square root of 100 is 10.0\n",
      "Calculating square root of 25000\n",
      "Square root of 25000 is 158.11388300841898\n"
     ]
    }
   ],
   "source": [
    "import time\n",
    "\n",
    "def calculate_square_root(x):\n",
    "    print(\"Calculating square root of\", x)\n",
    "    result = x ** 0.5\n",
    "    print(\"Square root of\", x, \"is\", result)\n",
    "\n",
    "def invoke_function_after_delay(delay, function, *args):\n",
    "    time.sleep(delay / 1000)  # Convert milliseconds to seconds\n",
    "    function(*args)\n",
    "\n",
    "# Example usage:\n",
    "invoke_function_after_delay(1000, calculate_square_root, 16)\n",
    "invoke_function_after_delay(5000, calculate_square_root, 100)\n",
    "invoke_function_after_delay(30000, calculate_square_root, 25000)"
   ]
  }
 ],
 "metadata": {
  "kernelspec": {
   "display_name": "Python 3",
   "language": "python",
   "name": "python3"
  },
  "language_info": {
   "codemirror_mode": {
    "name": "ipython",
    "version": 3
   },
   "file_extension": ".py",
   "mimetype": "text/x-python",
   "name": "python",
   "nbconvert_exporter": "python",
   "pygments_lexer": "ipython3",
   "version": "3.9.6"
  }
 },
 "nbformat": 4,
 "nbformat_minor": 5
}
